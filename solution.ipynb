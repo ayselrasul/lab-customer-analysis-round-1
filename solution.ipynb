{
 "cells": [
  {
   "cell_type": "code",
   "execution_count": 292,
   "id": "66184a4b",
   "metadata": {},
   "outputs": [],
   "source": [
    "import pandas as pd\n",
    "import numpy as np"
   ]
  },
  {
   "cell_type": "code",
   "execution_count": 322,
   "id": "7f55a4b3",
   "metadata": {},
   "outputs": [
    {
     "data": {
      "text/plain": [
       "(7070, 11)"
      ]
     },
     "execution_count": 322,
     "metadata": {},
     "output_type": "execute_result"
    }
   ],
   "source": [
    "file1 = pd.read_csv('file1.csv')\n",
    "file2 = pd.read_csv('file2.csv')\n",
    "file3 = pd.read_csv('file3.csv')\n",
    "\n",
    "\n",
    "#Show the DataFrame shape\n",
    "\n",
    "file1.shape\n",
    "file2.shape\n",
    "file3.shape\n"
   ]
  },
  {
   "cell_type": "code",
   "execution_count": 296,
   "id": "e66a26f3",
   "metadata": {},
   "outputs": [],
   "source": [
    "#Standardize header names\n",
    "\n",
    "file1=file1.rename({'ST': 'State', 'GENDER':'Gender'}, axis=1)\n",
    "file2=file2.rename({'ST': 'State', 'GENDER':'Gender'}, axis=1)\n"
   ]
  },
  {
   "cell_type": "code",
   "execution_count": 321,
   "id": "07c320cb",
   "metadata": {},
   "outputs": [],
   "source": [
    "#Rearrange the columns in the dataframe as needed\n",
    "file1_ordered=file1.loc[:, file1.columns.sort_values()]\n",
    "file2_ordered=file2.loc[:, file2.columns.sort_values()]"
   ]
  },
  {
   "cell_type": "code",
   "execution_count": 298,
   "id": "4dac5456",
   "metadata": {},
   "outputs": [],
   "source": [
    "#Concatenate the three dataframes\n",
    "files = pd.concat([file1, file2, file3], axis=0)"
   ]
  },
  {
   "cell_type": "code",
   "execution_count": 323,
   "id": "6e483c72",
   "metadata": {},
   "outputs": [],
   "source": [
    "#Which columns are numerical\n",
    "file1.select_dtypes(include=np.number)\n",
    "file2.select_dtypes(include=np.number)\n",
    "file3.select_dtypes(include=np.number)\n",
    "\n",
    "\n",
    "#Which columns are categorical\n",
    "file1.select_dtypes(include=['object'])\n",
    "file2.select_dtypes(include=['object'])\n",
    "file3.select_dtypes(include=['object'])\n",
    "\n",
    "\n",
    "# Delete the column education and the number of open complaints from the dataframe\n",
    "file1.drop(['Education','Number of Open Complaints'],axis=1, inplace=False)\n",
    "\n",
    "\n",
    "#Correct the values in the column customer lifetime value. \n",
    "#They are given as a percent, so multiply them by 100 and change dtype to numerical type\n",
    "\n",
    "file1['Customer Lifetime Value'] = file1['Customer Lifetime Value'].str.replace('[%]', '',regex=True)\n",
    "file1['Customer Lifetime Value'] = file1['Customer Lifetime Value'].fillna(0)\n",
    "file1['Customer Lifetime Value'] = pd.to_numeric(file1['Customer Lifetime Value'])\n",
    "file1['Customer Lifetime Value']=file1['Customer Lifetime Value']*100"
   ]
  },
  {
   "cell_type": "code",
   "execution_count": 316,
   "id": "3508c1bf",
   "metadata": {},
   "outputs": [],
   "source": [
    "# Check for duplicate rows in the data and remove if any.\n",
    "\n",
    "file1.drop_duplicates(inplace=True)"
   ]
  },
  {
   "cell_type": "code",
   "execution_count": 326,
   "id": "ae5444e1",
   "metadata": {},
   "outputs": [],
   "source": [
    "# Filter out the data for customers who have an income of 0 or less\n",
    "\n",
    "file1_filtered = file1['Customer'][file1['Income']<=0]"
   ]
  }
 ],
 "metadata": {
  "kernelspec": {
   "display_name": "Python 3",
   "language": "python",
   "name": "python3"
  },
  "language_info": {
   "codemirror_mode": {
    "name": "ipython",
    "version": 3
   },
   "file_extension": ".py",
   "mimetype": "text/x-python",
   "name": "python",
   "nbconvert_exporter": "python",
   "pygments_lexer": "ipython3",
   "version": "3.8.8"
  }
 },
 "nbformat": 4,
 "nbformat_minor": 5
}
